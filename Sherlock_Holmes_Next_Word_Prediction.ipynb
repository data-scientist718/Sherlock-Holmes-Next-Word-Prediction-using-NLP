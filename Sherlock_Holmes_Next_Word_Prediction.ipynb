{
 "cells": [
  {
   "cell_type": "markdown",
   "metadata": {},
   "source": [
    "# Title:  Next Word Prediction with Sherlock Holmes Text using LSTM"
   ]
  },
  {
   "cell_type": "markdown",
   "metadata": {},
   "source": [
    "# Author:  Abd Ur Rehman"
   ]
  },
  {
   "cell_type": "markdown",
   "metadata": {},
   "source": [
    "# Date:  12_01_2024"
   ]
  },
  {
   "cell_type": "markdown",
   "metadata": {},
   "source": [
    "# Project Purpose\n",
    "## Objective:\n",
    "### Develop a Next Word Prediction model using Natural Language Processing (NLP) techniques, specifically Long Short-Term Memory (LSTM) networks, to anticipate the next word in sentences from the Sherlock Holmes text dataset.\n",
    "\n",
    "## Dataset:\n",
    "\n",
    "### The dataset consists of plain-text versions of the renowned Sherlock Holmes stories by Sir Arthur Conan Doyle. This collection provides a rich source of textual data for training the model.\n",
    "\n",
    "## Key Tasks:\n",
    "\n",
    "### 1. Data Preprocessing: Clean and tokenize the text, create sequences of words.\n",
    "### 2. Model Building: Construct an LSTM-based neural network for sequence prediction.\n",
    "### 3. Model Training: Train the model on the processed dataset to learn language patterns.\n",
    "### 4. Evaluation: Assess the model's accuracy in predicting the next word.\n",
    "### 5. Application: Implement a prediction function and a Flask web application for interactive use.\n",
    "\n",
    "## Expected Outcome:\n",
    "### By the end of this project, we aim to have a functional Next Word Prediction model capable of suggesting the most probable word following a given sequence of words from the Sherlock Holmes stories. This model can serve as a foundation for applications such as predictive text input and content generation."
   ]
  },
  {
   "cell_type": "markdown",
   "metadata": {},
   "source": [
    "# Data Preprocessing"
   ]
  },
  {
   "cell_type": "code",
   "execution_count": null,
   "metadata": {},
   "outputs": [],
   "source": [
    "import tensorflow as tf\n",
    "\n",
    "# Clear any previous session\n",
    "tf.keras.backend.clear_session()\n"
   ]
  },
  {
   "cell_type": "code",
   "execution_count": null,
   "metadata": {},
   "outputs": [],
   "source": [
    "# # Import necessary libraries\n",
    "# import numpy as np\n",
    "# import nltk\n",
    "# import re\n",
    "# import tensorflow as tf\n",
    "# import matplotlib.pyplot as plt\n",
    "# from keras.preprocessing.text import Tokenizer\n",
    "# from keras.utils import to_categorical\n",
    "# from tensorflow.keras.preprocessing.sequence import pad_sequences"
   ]
  },
  {
   "cell_type": "code",
   "execution_count": null,
   "metadata": {},
   "outputs": [],
   "source": [
    "# Import necessary libraries\n",
    "import numpy as np\n",
    "import nltk\n",
    "import re\n",
    "import tensorflow as tf\n",
    "import matplotlib.pyplot as plt\n",
    "from tensorflow.keras.preprocessing.text import Tokenizer\n",
    "from tensorflow.keras.utils import to_categorical\n",
    "from tensorflow.keras.preprocessing.sequence import pad_sequences\n",
    "\n",
    "# Limit GPU memory growth\n",
    "gpus = tf.config.experimental.list_physical_devices('GPU')\n",
    "if gpus:\n",
    "    try:\n",
    "        for gpu in gpus:\n",
    "            tf.config.experimental.set_memory_growth(gpu, True)\n",
    "    except RuntimeError as e:\n",
    "        print(e)\n",
    "\n",
    "# Clear GPU memory after each significant operation\n",
    "tf.keras.backend.clear_session()\n",
    "\n",
    "# Use mixed precision if available and beneficial\n",
    "if tf.test.is_gpu_available():\n",
    "    tf.keras.mixed_precision.set_global_policy('mixed_float16')\n",
    "\n",
    "# Your code continues here"
   ]
  },
  {
   "cell_type": "code",
   "execution_count": null,
   "metadata": {},
   "outputs": [],
   "source": [
    "# Download and import necessary NLTK data\n",
    "#nltk.download('punkt')\n",
    "\n",
    "# Load the dataset\n",
    "with open('sherlock-holm.es_stories_plain-text_advs.txt', 'r') as file:\n",
    "    text = file.read()\n",
    "\n",
    "# Preprocess the text\n",
    "text = text.lower()  # Convert to lowercase\n",
    "text = re.sub(r'[^a-z\\s]', '', text)  # Remove punctuations and non-alphabetic characters\n",
    "\n",
    "# Tokenize the text\n",
    "tokens = nltk.word_tokenize(text)\n",
    "\n",
    "# Create sequences of words\n",
    "sequence_length = 5\n",
    "sequences = []\n",
    "\n",
    "for i in range(sequence_length, len(tokens)):\n",
    "    seq = tokens[i-sequence_length:i]\n",
    "    sequences.append(' '.join(seq))\n",
    "\n",
    "# Tokenize sequences\n",
    "tokenizer = Tokenizer()\n",
    "tokenizer.fit_on_texts(sequences)\n",
    "sequences = tokenizer.texts_to_sequences(sequences)\n",
    "\n",
    "# Convert to numpy array\n",
    "sequences = np.array(sequences)\n",
    "\n",
    "# Split into input (X) and output (y)\n",
    "X = sequences[:, :-1]\n",
    "y = sequences[:, -1]\n",
    "\n",
    "# One-hot encode the output words\n",
    "vocab_size = len(tokenizer.word_index) + 1\n",
    "y = to_categorical(y, num_classes=vocab_size)\n",
    "\n",
    "# Pad the input sequences\n",
    "X = pad_sequences(X, maxlen=sequence_length-1, padding='pre')"
   ]
  },
  {
   "cell_type": "code",
   "execution_count": null,
   "metadata": {},
   "outputs": [],
   "source": [
    "# Print the shapes of X and y to verify\n",
    "print(f'Shape of X: {X.shape}')\n",
    "print(f'Shape of y: {y.shape}')"
   ]
  },
  {
   "cell_type": "markdown",
   "metadata": {},
   "source": [
    "# Model Building"
   ]
  },
  {
   "cell_type": "code",
   "execution_count": null,
   "metadata": {},
   "outputs": [],
   "source": [
    "from keras.models import Sequential\n",
    "from keras.layers import Embedding, LSTM, Bidirectional, Dense, Dropout\n",
    "from keras.optimizers import Adam\n",
    "\n",
    "# Define a simpler model for debugging\n",
    "model = Sequential()\n",
    "model.add(Embedding(input_dim=vocab_size, output_dim=50, input_length=sequence_length-1))\n",
    "model.add(Bidirectional(LSTM(50, return_sequences=True)))\n",
    "model.add(Dropout(0.2))\n",
    "model.add(Bidirectional(LSTM(50)))\n",
    "model.add(Dropout(0.2))\n",
    "model.add(Dense(vocab_size, activation='softmax'))\n",
    "\n",
    "# Compile the model\n",
    "model.compile(loss='categorical_crossentropy', optimizer=Adam(learning_rate=0.001), metrics=['accuracy'])\n"
   ]
  },
  {
   "cell_type": "code",
   "execution_count": null,
   "metadata": {},
   "outputs": [],
   "source": [
    "# from keras.models import Sequential\n",
    "# from keras.layers import Embedding, LSTM, Bidirectional, Dense, Dropout\n",
    "# from keras.optimizers import Adam\n",
    "\n",
    "# # Define the model\n",
    "# model = Sequential()\n",
    "# model.add(Embedding(input_dim=vocab_size, output_dim=100, input_length=sequence_length-1))\n",
    "# model.add(Bidirectional(LSTM(150, return_sequences=True)))\n",
    "# model.add(Dropout(0.2))\n",
    "# model.add(Bidirectional(LSTM(150)))\n",
    "# model.add(Dropout(0.2))\n",
    "# model.add(Dense(vocab_size, activation='softmax'))\n",
    "\n",
    "# # Compile the model\n",
    "# model.compile(loss='categorical_crossentropy', optimizer=Adam(learning_rate=0.001), metrics=['accuracy'])\n"
   ]
  },
  {
   "cell_type": "markdown",
   "metadata": {},
   "source": [
    "# Model Training"
   ]
  },
  {
   "cell_type": "code",
   "execution_count": null,
   "metadata": {},
   "outputs": [],
   "source": [
    "# Train the model\n",
    "epochs = 100\n",
    "batch_size = 32\n",
    "\n",
    "history = model.fit(X, y, epochs=epochs, batch_size=batch_size, validation_split=0.2)\n"
   ]
  },
  {
   "cell_type": "markdown",
   "metadata": {},
   "source": [
    "# Evaluation"
   ]
  },
  {
   "cell_type": "code",
   "execution_count": null,
   "metadata": {},
   "outputs": [],
   "source": [
    "# Evaluate the model\n",
    "loss, accuracy = model.evaluate(X, y)\n",
    "print(f'Loss: {loss}')\n",
    "print(f'Accuracy: {accuracy}')"
   ]
  },
  {
   "cell_type": "markdown",
   "metadata": {},
   "source": [
    "# plot graph for accuracy and loss"
   ]
  },
  {
   "cell_type": "code",
   "execution_count": null,
   "metadata": {},
   "outputs": [],
   "source": [
    "# Plotting the accuracy and loss\n",
    "# Retrieve training and validation accuracy\n",
    "accuracy = history.history['accuracy']\n",
    "val_accuracy = history.history['val_accuracy']\n",
    "\n",
    "# Retrieve training and validation loss\n",
    "loss = history.history['loss']\n",
    "val_loss = history.history['val_loss']\n",
    "\n",
    "# Create epochs array for x-axis\n",
    "epochs_range = range(epochs)\n",
    "\n",
    "# Plot training accuracy and loss\n",
    "plt.figure(figsize=(14, 6))\n",
    "\n",
    "plt.subplot(1, 2, 1)\n",
    "plt.plot(epochs_range, accuracy, label='Training Accuracy')\n",
    "plt.plot(epochs_range, loss, label='Training Loss')\n",
    "plt.xlabel('Epochs')\n",
    "plt.ylabel('Accuracy/Loss')\n",
    "plt.legend(loc='best')\n",
    "plt.title('Training Accuracy and Loss')\n",
    "\n",
    "# Plot validation accuracy and loss\n",
    "plt.subplot(1, 2, 2)\n",
    "plt.plot(epochs_range, val_accuracy, label='Validation Accuracy')\n",
    "plt.plot(epochs_range, val_loss, label='Validation Loss')\n",
    "plt.xlabel('Epochs')\n",
    "plt.ylabel('Accuracy/Loss')\n",
    "plt.legend(loc='best')\n",
    "plt.title('Validation Accuracy and Loss')\n",
    "\n",
    "plt.show()"
   ]
  },
  {
   "cell_type": "markdown",
   "metadata": {},
   "source": [
    "# Prediction Function"
   ]
  },
  {
   "cell_type": "code",
   "execution_count": null,
   "metadata": {},
   "outputs": [],
   "source": [
    "# Function to predict the next word\n",
    "def predict_next_word(model, tokenizer, text_seq, seq_length):\n",
    "    text_seq = text_seq.lower()\n",
    "    text_seq = re.sub(r'[^a-z\\s]', '', text_seq)  # Preprocess input text\n",
    "    tokens = nltk.word_tokenize(text_seq)\n",
    "    encoded = tokenizer.texts_to_sequences([tokens])\n",
    "    encoded = pad_sequences(encoded, maxlen=seq_length-1, padding='pre')\n",
    "    \n",
    "    pred_prob = model.predict(encoded, verbose=0)\n",
    "    pred_word = tokenizer.index_word[np.argmax(pred_prob)]\n",
    "    \n",
    "    return pred_word\n",
    "\n",
    "# Example usage\n",
    "input_text = \"sherlock holmes is\"\n",
    "next_word = predict_next_word(model, tokenizer, input_text, sequence_length)\n",
    "print(f'Next word prediction: {next_word}')\n"
   ]
  }
 ],
 "metadata": {
  "kernelspec": {
   "display_name": "CCCenv",
   "language": "python",
   "name": "python3"
  },
  "language_info": {
   "codemirror_mode": {
    "name": "ipython",
    "version": 3
   },
   "file_extension": ".py",
   "mimetype": "text/x-python",
   "name": "python",
   "nbconvert_exporter": "python",
   "pygments_lexer": "ipython3",
   "version": "3.9.19"
  }
 },
 "nbformat": 4,
 "nbformat_minor": 2
}
