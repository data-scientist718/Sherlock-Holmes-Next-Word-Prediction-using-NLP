{
 "cells": [
  {
   "cell_type": "markdown",
   "metadata": {},
   "source": [
    "# Title:  Next Word Prediction with Sherlock Holmes Text using LSTM"
   ]
  },
  {
   "cell_type": "markdown",
   "metadata": {},
   "source": [
    "# Author:  Abd Ur Rehman"
   ]
  },
  {
   "cell_type": "markdown",
   "metadata": {},
   "source": [
    "# Date:  12_01_2024"
   ]
  },
  {
   "cell_type": "markdown",
   "metadata": {},
   "source": [
    "# Project Purpose\n",
    "## Objective:\n",
    "### Develop a Next Word Prediction model using Natural Language Processing (NLP) techniques, specifically Long Short-Term Memory (LSTM) networks, to anticipate the next word in sentences from the Sherlock Holmes text dataset.\n",
    "\n",
    "## Dataset:\n",
    "\n",
    "### The dataset consists of plain-text versions of the renowned Sherlock Holmes stories by Sir Arthur Conan Doyle. This collection provides a rich source of textual data for training the model.\n",
    "\n",
    "## Key Tasks:\n",
    "\n",
    "### 1. Data Preprocessing: Clean and tokenize the text, create sequences of words.\n",
    "### 2. Model Building: Construct an LSTM-based neural network for sequence prediction.\n",
    "### 3. Model Training: Train the model on the processed dataset to learn language patterns.\n",
    "### 4. Evaluation: Assess the model's accuracy in predicting the next word.\n",
    "### 5. Application: Implement a prediction function and a Flask web application for interactive use.\n",
    "\n",
    "## Expected Outcome:\n",
    "### By the end of this project, we aim to have a functional Next Word Prediction model capable of suggesting the most probable word following a given sequence of words from the Sherlock Holmes stories. This model can serve as a foundation for applications such as predictive text input and content generation."
   ]
  },
  {
   "cell_type": "markdown",
   "metadata": {},
   "source": [
    "# Data Preprocessing"
   ]
  },
  {
   "cell_type": "code",
   "execution_count": 1,
   "metadata": {},
   "outputs": [
    {
     "name": "stderr",
     "output_type": "stream",
     "text": [
      "2024-07-05 09:37:46.769089: I external/local_tsl/tsl/cuda/cudart_stub.cc:32] Could not find cuda drivers on your machine, GPU will not be used.\n",
      "2024-07-05 09:37:46.862901: I external/local_tsl/tsl/cuda/cudart_stub.cc:32] Could not find cuda drivers on your machine, GPU will not be used.\n",
      "2024-07-05 09:37:47.006509: E external/local_xla/xla/stream_executor/cuda/cuda_fft.cc:479] Unable to register cuFFT factory: Attempting to register factory for plugin cuFFT when one has already been registered\n",
      "2024-07-05 09:37:47.137984: E external/local_xla/xla/stream_executor/cuda/cuda_dnn.cc:10575] Unable to register cuDNN factory: Attempting to register factory for plugin cuDNN when one has already been registered\n",
      "2024-07-05 09:37:47.138880: E external/local_xla/xla/stream_executor/cuda/cuda_blas.cc:1442] Unable to register cuBLAS factory: Attempting to register factory for plugin cuBLAS when one has already been registered\n",
      "2024-07-05 09:37:47.370899: I tensorflow/core/platform/cpu_feature_guard.cc:210] This TensorFlow binary is optimized to use available CPU instructions in performance-critical operations.\n",
      "To enable the following instructions: AVX2 FMA, in other operations, rebuild TensorFlow with the appropriate compiler flags.\n",
      "2024-07-05 09:37:49.182275: W tensorflow/compiler/tf2tensorrt/utils/py_utils.cc:38] TF-TRT Warning: Could not find TensorRT\n"
     ]
    }
   ],
   "source": [
    "# Import necessary libraries\n",
    "import numpy as np\n",
    "import nltk\n",
    "import re\n",
    "import tensorflow as tf\n",
    "import matplotlib.pyplot as plt\n",
    "from tensorflow.keras.preprocessing.text import Tokenizer\n",
    "from tensorflow.keras.utils import to_categorical\n",
    "from tensorflow.keras.preprocessing.sequence import pad_sequences"
   ]
  },
  {
   "cell_type": "code",
   "execution_count": 2,
   "metadata": {},
   "outputs": [
    {
     "name": "stderr",
     "output_type": "stream",
     "text": [
      "[nltk_data] Downloading package punkt to\n",
      "[nltk_data]     /home/abdurrehman/nltk_data...\n",
      "[nltk_data]   Package punkt is already up-to-date!\n"
     ]
    }
   ],
   "source": [
    "# Download and import necessary NLTK data\n",
    "nltk.download('punkt')\n",
    "\n",
    "# Load the dataset\n",
    "with open('sherlock-holm.es_stories_plain-text_advs.txt', 'r') as file:\n",
    "    text = file.read()\n",
    "\n",
    "# Preprocess the text\n",
    "text = text.lower()  # Convert to lowercase\n",
    "text = re.sub(r'[^a-z\\s]', '', text)  # Remove punctuations and non-alphabetic characters\n",
    "\n",
    "# Tokenize the text\n",
    "tokens = nltk.word_tokenize(text)\n",
    "\n",
    "# Create sequences of words\n",
    "sequence_length = 5\n",
    "sequences = []\n",
    "\n",
    "for i in range(sequence_length, len(tokens)):\n",
    "    seq = tokens[i-sequence_length:i]\n",
    "    sequences.append(' '.join(seq))\n",
    "\n",
    "# Tokenize sequences\n",
    "tokenizer = Tokenizer()\n",
    "tokenizer.fit_on_texts(sequences)\n",
    "sequences = tokenizer.texts_to_sequences(sequences)\n",
    "\n",
    "# Convert to numpy array\n",
    "sequences = np.array(sequences)\n",
    "\n",
    "# Split into input (X) and output (y)\n",
    "X = sequences[:, :-1]\n",
    "y = sequences[:, -1]\n",
    "\n",
    "# One-hot encode the output words\n",
    "vocab_size = len(tokenizer.word_index) + 1\n",
    "y = to_categorical(y, num_classes=vocab_size)\n",
    "\n",
    "# Pad the input sequences\n",
    "X = pad_sequences(X, maxlen=sequence_length-1, padding='pre')"
   ]
  },
  {
   "cell_type": "code",
   "execution_count": 3,
   "metadata": {},
   "outputs": [
    {
     "name": "stdout",
     "output_type": "stream",
     "text": [
      "Shape of X: (104478, 4)\n",
      "Shape of y: (104478, 8336)\n"
     ]
    }
   ],
   "source": [
    "# Print the shapes of X and y to verify\n",
    "print(f'Shape of X: {X.shape}')\n",
    "print(f'Shape of y: {y.shape}')"
   ]
  },
  {
   "cell_type": "markdown",
   "metadata": {},
   "source": [
    "# Model Building"
   ]
  },
  {
   "cell_type": "code",
   "execution_count": 4,
   "metadata": {},
   "outputs": [
    {
     "name": "stderr",
     "output_type": "stream",
     "text": [
      "/home/abdurrehman/anaconda3/envs/NLP/lib/python3.12/site-packages/keras/src/layers/core/embedding.py:90: UserWarning: Argument `input_length` is deprecated. Just remove it.\n",
      "  warnings.warn(\n",
      "2024-07-05 09:37:54.802422: I external/local_xla/xla/stream_executor/cuda/cuda_executor.cc:998] successful NUMA node read from SysFS had negative value (-1), but there must be at least one NUMA node, so returning NUMA node zero. See more at https://github.com/torvalds/linux/blob/v6.0/Documentation/ABI/testing/sysfs-bus-pci#L344-L355\n",
      "2024-07-05 09:37:54.847360: W tensorflow/core/common_runtime/gpu/gpu_device.cc:2251] Cannot dlopen some GPU libraries. Please make sure the missing libraries mentioned above are installed properly if you would like to use GPU. Follow the guide at https://www.tensorflow.org/install/gpu for how to download and setup the required libraries for your platform.\n",
      "Skipping registering GPU devices...\n"
     ]
    }
   ],
   "source": [
    "from keras.models import Sequential\n",
    "from keras.layers import Embedding, LSTM, Bidirectional, Dense, Dropout\n",
    "from keras.optimizers import Adam\n",
    "\n",
    "# Define the model\n",
    "model = Sequential()\n",
    "model.add(Embedding(input_dim=vocab_size, output_dim=100, input_length=sequence_length-1))\n",
    "model.add(Bidirectional(LSTM(150, return_sequences=True)))\n",
    "model.add(Dropout(0.2))\n",
    "model.add(Bidirectional(LSTM(150)))\n",
    "model.add(Dropout(0.2))\n",
    "model.add(Dense(vocab_size, activation='softmax'))\n",
    "\n",
    "# Compile the model\n",
    "model.compile(loss='categorical_crossentropy', optimizer=Adam(learning_rate=0.001), metrics=['accuracy'])\n"
   ]
  },
  {
   "cell_type": "markdown",
   "metadata": {},
   "source": [
    "# Model Training"
   ]
  },
  {
   "cell_type": "code",
   "execution_count": 5,
   "metadata": {},
   "outputs": [
    {
     "name": "stdout",
     "output_type": "stream",
     "text": [
      "Epoch 1/100\n"
     ]
    },
    {
     "name": "stderr",
     "output_type": "stream",
     "text": [
      "2024-07-05 09:38:00.669627: W external/local_tsl/tsl/framework/cpu_allocator_impl.cc:83] Allocation of 2786958208 exceeds 10% of free system memory.\n"
     ]
    },
    {
     "name": "stdout",
     "output_type": "stream",
     "text": [
      "\u001b[1m327/327\u001b[0m \u001b[32m━━━━━━━━━━━━━━━━━━━━\u001b[0m\u001b[37m\u001b[0m \u001b[1m87s\u001b[0m 238ms/step - accuracy: 0.0536 - loss: 7.1729 - val_accuracy: 0.0527 - val_loss: 6.3551\n",
      "Epoch 2/100\n",
      "\u001b[1m327/327\u001b[0m \u001b[32m━━━━━━━━━━━━━━━━━━━━\u001b[0m\u001b[37m\u001b[0m \u001b[1m82s\u001b[0m 237ms/step - accuracy: 0.0637 - loss: 6.2118 - val_accuracy: 0.0659 - val_loss: 6.2027\n",
      "Epoch 3/100\n",
      "\u001b[1m327/327\u001b[0m \u001b[32m━━━━━━━━━━━━━━━━━━━━\u001b[0m\u001b[37m\u001b[0m \u001b[1m85s\u001b[0m 247ms/step - accuracy: 0.0815 - loss: 5.9431 - val_accuracy: 0.0938 - val_loss: 5.9926\n",
      "Epoch 4/100\n",
      "\u001b[1m327/327\u001b[0m \u001b[32m━━━━━━━━━━━━━━━━━━━━\u001b[0m\u001b[37m\u001b[0m \u001b[1m73s\u001b[0m 222ms/step - accuracy: 0.1058 - loss: 5.6437 - val_accuracy: 0.1082 - val_loss: 5.8872\n",
      "Epoch 5/100\n",
      "\u001b[1m327/327\u001b[0m \u001b[32m━━━━━━━━━━━━━━━━━━━━\u001b[0m\u001b[37m\u001b[0m \u001b[1m85s\u001b[0m 232ms/step - accuracy: 0.1192 - loss: 5.4083 - val_accuracy: 0.1151 - val_loss: 5.8474\n",
      "Epoch 6/100\n",
      "\u001b[1m327/327\u001b[0m \u001b[32m━━━━━━━━━━━━━━━━━━━━\u001b[0m\u001b[37m\u001b[0m \u001b[1m71s\u001b[0m 218ms/step - accuracy: 0.1342 - loss: 5.1827 - val_accuracy: 0.1180 - val_loss: 5.8511\n",
      "Epoch 7/100\n",
      "\u001b[1m327/327\u001b[0m \u001b[32m━━━━━━━━━━━━━━━━━━━━\u001b[0m\u001b[37m\u001b[0m \u001b[1m73s\u001b[0m 223ms/step - accuracy: 0.1411 - loss: 5.0326 - val_accuracy: 0.1217 - val_loss: 5.8573\n",
      "Epoch 8/100\n",
      "\u001b[1m327/327\u001b[0m \u001b[32m━━━━━━━━━━━━━━━━━━━━\u001b[0m\u001b[37m\u001b[0m \u001b[1m78s\u001b[0m 239ms/step - accuracy: 0.1517 - loss: 4.8527 - val_accuracy: 0.1216 - val_loss: 5.8897\n",
      "Epoch 9/100\n",
      "\u001b[1m327/327\u001b[0m \u001b[32m━━━━━━━━━━━━━━━━━━━━\u001b[0m\u001b[37m\u001b[0m \u001b[1m79s\u001b[0m 241ms/step - accuracy: 0.1605 - loss: 4.6875 - val_accuracy: 0.1217 - val_loss: 5.9399\n",
      "Epoch 10/100\n",
      "\u001b[1m327/327\u001b[0m \u001b[32m━━━━━━━━━━━━━━━━━━━━\u001b[0m\u001b[37m\u001b[0m \u001b[1m80s\u001b[0m 235ms/step - accuracy: 0.1712 - loss: 4.5275 - val_accuracy: 0.1217 - val_loss: 5.9705\n",
      "Epoch 11/100\n",
      "\u001b[1m327/327\u001b[0m \u001b[32m━━━━━━━━━━━━━━━━━━━━\u001b[0m\u001b[37m\u001b[0m \u001b[1m78s\u001b[0m 238ms/step - accuracy: 0.1864 - loss: 4.3573 - val_accuracy: 0.1218 - val_loss: 6.0278\n",
      "Epoch 12/100\n",
      "\u001b[1m327/327\u001b[0m \u001b[32m━━━━━━━━━━━━━━━━━━━━\u001b[0m\u001b[37m\u001b[0m \u001b[1m79s\u001b[0m 242ms/step - accuracy: 0.1971 - loss: 4.1979 - val_accuracy: 0.1178 - val_loss: 6.0981\n",
      "Epoch 13/100\n",
      "\u001b[1m327/327\u001b[0m \u001b[32m━━━━━━━━━━━━━━━━━━━━\u001b[0m\u001b[37m\u001b[0m \u001b[1m77s\u001b[0m 235ms/step - accuracy: 0.2111 - loss: 4.0410 - val_accuracy: 0.1187 - val_loss: 6.1447\n",
      "Epoch 14/100\n",
      "\u001b[1m327/327\u001b[0m \u001b[32m━━━━━━━━━━━━━━━━━━━━\u001b[0m\u001b[37m\u001b[0m \u001b[1m79s\u001b[0m 241ms/step - accuracy: 0.2298 - loss: 3.8988 - val_accuracy: 0.1216 - val_loss: 6.2072\n",
      "Epoch 15/100\n",
      "\u001b[1m327/327\u001b[0m \u001b[32m━━━━━━━━━━━━━━━━━━━━\u001b[0m\u001b[37m\u001b[0m \u001b[1m84s\u001b[0m 256ms/step - accuracy: 0.2451 - loss: 3.7588 - val_accuracy: 0.1179 - val_loss: 6.2670\n",
      "Epoch 16/100\n",
      "\u001b[1m327/327\u001b[0m \u001b[32m━━━━━━━━━━━━━━━━━━━━\u001b[0m\u001b[37m\u001b[0m \u001b[1m82s\u001b[0m 251ms/step - accuracy: 0.2592 - loss: 3.6290 - val_accuracy: 0.1189 - val_loss: 6.3188\n",
      "Epoch 17/100\n",
      "\u001b[1m327/327\u001b[0m \u001b[32m━━━━━━━━━━━━━━━━━━━━\u001b[0m\u001b[37m\u001b[0m \u001b[1m84s\u001b[0m 257ms/step - accuracy: 0.2798 - loss: 3.5062 - val_accuracy: 0.1140 - val_loss: 6.3790\n",
      "Epoch 18/100\n",
      "\u001b[1m327/327\u001b[0m \u001b[32m━━━━━━━━━━━━━━━━━━━━\u001b[0m\u001b[37m\u001b[0m \u001b[1m84s\u001b[0m 257ms/step - accuracy: 0.2939 - loss: 3.3924 - val_accuracy: 0.1145 - val_loss: 6.4436\n",
      "Epoch 19/100\n",
      "\u001b[1m327/327\u001b[0m \u001b[32m━━━━━━━━━━━━━━━━━━━━\u001b[0m\u001b[37m\u001b[0m \u001b[1m83s\u001b[0m 253ms/step - accuracy: 0.3093 - loss: 3.2803 - val_accuracy: 0.1116 - val_loss: 6.5192\n",
      "Epoch 20/100\n",
      "\u001b[1m327/327\u001b[0m \u001b[32m━━━━━━━━━━━━━━━━━━━━\u001b[0m\u001b[37m\u001b[0m \u001b[1m85s\u001b[0m 260ms/step - accuracy: 0.3273 - loss: 3.1697 - val_accuracy: 0.1128 - val_loss: 6.5684\n",
      "Epoch 21/100\n",
      "\u001b[1m327/327\u001b[0m \u001b[32m━━━━━━━━━━━━━━━━━━━━\u001b[0m\u001b[37m\u001b[0m \u001b[1m86s\u001b[0m 264ms/step - accuracy: 0.3451 - loss: 3.0568 - val_accuracy: 0.1132 - val_loss: 6.6312\n",
      "Epoch 22/100\n",
      "\u001b[1m327/327\u001b[0m \u001b[32m━━━━━━━━━━━━━━━━━━━━\u001b[0m\u001b[37m\u001b[0m \u001b[1m79s\u001b[0m 240ms/step - accuracy: 0.3594 - loss: 2.9760 - val_accuracy: 0.1132 - val_loss: 6.6962\n",
      "Epoch 23/100\n",
      "\u001b[1m327/327\u001b[0m \u001b[32m━━━━━━━━━━━━━━━━━━━━\u001b[0m\u001b[37m\u001b[0m \u001b[1m77s\u001b[0m 236ms/step - accuracy: 0.3730 - loss: 2.8835 - val_accuracy: 0.1105 - val_loss: 6.7648\n",
      "Epoch 24/100\n",
      "\u001b[1m327/327\u001b[0m \u001b[32m━━━━━━━━━━━━━━━━━━━━\u001b[0m\u001b[37m\u001b[0m \u001b[1m80s\u001b[0m 230ms/step - accuracy: 0.3848 - loss: 2.8106 - val_accuracy: 0.1074 - val_loss: 6.8290\n",
      "Epoch 25/100\n",
      "\u001b[1m327/327\u001b[0m \u001b[32m━━━━━━━━━━━━━━━━━━━━\u001b[0m\u001b[37m\u001b[0m \u001b[1m73s\u001b[0m 222ms/step - accuracy: 0.3999 - loss: 2.7283 - val_accuracy: 0.1103 - val_loss: 6.8855\n",
      "Epoch 26/100\n",
      "\u001b[1m327/327\u001b[0m \u001b[32m━━━━━━━━━━━━━━━━━━━━\u001b[0m\u001b[37m\u001b[0m \u001b[1m82s\u001b[0m 221ms/step - accuracy: 0.4182 - loss: 2.6343 - val_accuracy: 0.1075 - val_loss: 6.9494\n",
      "Epoch 27/100\n",
      "\u001b[1m327/327\u001b[0m \u001b[32m━━━━━━━━━━━━━━━━━━━━\u001b[0m\u001b[37m\u001b[0m \u001b[1m72s\u001b[0m 221ms/step - accuracy: 0.4291 - loss: 2.5677 - val_accuracy: 0.1102 - val_loss: 6.9972\n",
      "Epoch 28/100\n",
      "\u001b[1m327/327\u001b[0m \u001b[32m━━━━━━━━━━━━━━━━━━━━\u001b[0m\u001b[37m\u001b[0m \u001b[1m72s\u001b[0m 221ms/step - accuracy: 0.4404 - loss: 2.4976 - val_accuracy: 0.1069 - val_loss: 7.0620\n",
      "Epoch 29/100\n",
      "\u001b[1m327/327\u001b[0m \u001b[32m━━━━━━━━━━━━━━━━━━━━\u001b[0m\u001b[37m\u001b[0m \u001b[1m72s\u001b[0m 220ms/step - accuracy: 0.4534 - loss: 2.4417 - val_accuracy: 0.1064 - val_loss: 7.1128\n",
      "Epoch 30/100\n",
      "\u001b[1m327/327\u001b[0m \u001b[32m━━━━━━━━━━━━━━━━━━━━\u001b[0m\u001b[37m\u001b[0m \u001b[1m83s\u001b[0m 222ms/step - accuracy: 0.4654 - loss: 2.3623 - val_accuracy: 0.1075 - val_loss: 7.1706\n",
      "Epoch 31/100\n",
      "\u001b[1m327/327\u001b[0m \u001b[32m━━━━━━━━━━━━━━━━━━━━\u001b[0m\u001b[37m\u001b[0m \u001b[1m82s\u001b[0m 222ms/step - accuracy: 0.4773 - loss: 2.2986 - val_accuracy: 0.1055 - val_loss: 7.2250\n",
      "Epoch 32/100\n",
      "\u001b[1m327/327\u001b[0m \u001b[32m━━━━━━━━━━━━━━━━━━━━\u001b[0m\u001b[37m\u001b[0m \u001b[1m74s\u001b[0m 225ms/step - accuracy: 0.4874 - loss: 2.2433 - val_accuracy: 0.1049 - val_loss: 7.2974\n",
      "Epoch 33/100\n",
      "\u001b[1m327/327\u001b[0m \u001b[32m━━━━━━━━━━━━━━━━━━━━\u001b[0m\u001b[37m\u001b[0m \u001b[1m73s\u001b[0m 224ms/step - accuracy: 0.4997 - loss: 2.1840 - val_accuracy: 0.1035 - val_loss: 7.3414\n",
      "Epoch 34/100\n",
      "\u001b[1m327/327\u001b[0m \u001b[32m━━━━━━━━━━━━━━━━━━━━\u001b[0m\u001b[37m\u001b[0m \u001b[1m85s\u001b[0m 232ms/step - accuracy: 0.5046 - loss: 2.1410 - val_accuracy: 0.1036 - val_loss: 7.3888\n",
      "Epoch 35/100\n",
      "\u001b[1m327/327\u001b[0m \u001b[32m━━━━━━━━━━━━━━━━━━━━\u001b[0m\u001b[37m\u001b[0m \u001b[1m78s\u001b[0m 239ms/step - accuracy: 0.5155 - loss: 2.0769 - val_accuracy: 0.1034 - val_loss: 7.4569\n",
      "Epoch 36/100\n",
      "\u001b[1m327/327\u001b[0m \u001b[32m━━━━━━━━━━━━━━━━━━━━\u001b[0m\u001b[37m\u001b[0m \u001b[1m78s\u001b[0m 240ms/step - accuracy: 0.5308 - loss: 2.0255 - val_accuracy: 0.1043 - val_loss: 7.5161\n",
      "Epoch 37/100\n",
      "\u001b[1m327/327\u001b[0m \u001b[32m━━━━━━━━━━━━━━━━━━━━\u001b[0m\u001b[37m\u001b[0m \u001b[1m76s\u001b[0m 222ms/step - accuracy: 0.5377 - loss: 1.9787 - val_accuracy: 0.1028 - val_loss: 7.5566\n",
      "Epoch 38/100\n",
      "\u001b[1m327/327\u001b[0m \u001b[32m━━━━━━━━━━━━━━━━━━━━\u001b[0m\u001b[37m\u001b[0m \u001b[1m84s\u001b[0m 229ms/step - accuracy: 0.5450 - loss: 1.9226 - val_accuracy: 0.1016 - val_loss: 7.5849\n",
      "Epoch 39/100\n",
      "\u001b[1m327/327\u001b[0m \u001b[32m━━━━━━━━━━━━━━━━━━━━\u001b[0m\u001b[37m\u001b[0m \u001b[1m78s\u001b[0m 239ms/step - accuracy: 0.5565 - loss: 1.8793 - val_accuracy: 0.1013 - val_loss: 7.6653\n",
      "Epoch 40/100\n",
      "\u001b[1m327/327\u001b[0m \u001b[32m━━━━━━━━━━━━━━━━━━━━\u001b[0m\u001b[37m\u001b[0m \u001b[1m80s\u001b[0m 244ms/step - accuracy: 0.5664 - loss: 1.8332 - val_accuracy: 0.1012 - val_loss: 7.7031\n",
      "Epoch 41/100\n",
      "\u001b[1m327/327\u001b[0m \u001b[32m━━━━━━━━━━━━━━━━━━━━\u001b[0m\u001b[37m\u001b[0m \u001b[1m75s\u001b[0m 222ms/step - accuracy: 0.5724 - loss: 1.7911 - val_accuracy: 0.1010 - val_loss: 7.7497\n",
      "Epoch 42/100\n",
      "\u001b[1m327/327\u001b[0m \u001b[32m━━━━━━━━━━━━━━━━━━━━\u001b[0m\u001b[37m\u001b[0m \u001b[1m84s\u001b[0m 227ms/step - accuracy: 0.5854 - loss: 1.7411 - val_accuracy: 0.0992 - val_loss: 7.8104\n",
      "Epoch 43/100\n",
      "\u001b[1m327/327\u001b[0m \u001b[32m━━━━━━━━━━━━━━━━━━━━\u001b[0m\u001b[37m\u001b[0m \u001b[1m80s\u001b[0m 244ms/step - accuracy: 0.5904 - loss: 1.7050 - val_accuracy: 0.0988 - val_loss: 7.8570\n",
      "Epoch 44/100\n",
      "\u001b[1m327/327\u001b[0m \u001b[32m━━━━━━━━━━━━━━━━━━━━\u001b[0m\u001b[37m\u001b[0m \u001b[1m80s\u001b[0m 244ms/step - accuracy: 0.5986 - loss: 1.6779 - val_accuracy: 0.0989 - val_loss: 7.9253\n",
      "Epoch 45/100\n",
      "\u001b[1m327/327\u001b[0m \u001b[32m━━━━━━━━━━━━━━━━━━━━\u001b[0m\u001b[37m\u001b[0m \u001b[1m74s\u001b[0m 225ms/step - accuracy: 0.6059 - loss: 1.6322 - val_accuracy: 0.0983 - val_loss: 7.9709\n",
      "Epoch 46/100\n",
      "\u001b[1m327/327\u001b[0m \u001b[32m━━━━━━━━━━━━━━━━━━━━\u001b[0m\u001b[37m\u001b[0m \u001b[1m74s\u001b[0m 225ms/step - accuracy: 0.6159 - loss: 1.5886 - val_accuracy: 0.0976 - val_loss: 8.0100\n",
      "Epoch 47/100\n",
      "\u001b[1m327/327\u001b[0m \u001b[32m━━━━━━━━━━━━━━━━━━━━\u001b[0m\u001b[37m\u001b[0m \u001b[1m81s\u001b[0m 222ms/step - accuracy: 0.6192 - loss: 1.5640 - val_accuracy: 0.0985 - val_loss: 8.0532\n",
      "Epoch 48/100\n",
      "\u001b[1m327/327\u001b[0m \u001b[32m━━━━━━━━━━━━━━━━━━━━\u001b[0m\u001b[37m\u001b[0m \u001b[1m83s\u001b[0m 225ms/step - accuracy: 0.6235 - loss: 1.5450 - val_accuracy: 0.0995 - val_loss: 8.1032\n",
      "Epoch 49/100\n",
      "\u001b[1m327/327\u001b[0m \u001b[32m━━━━━━━━━━━━━━━━━━━━\u001b[0m\u001b[37m\u001b[0m \u001b[1m78s\u001b[0m 238ms/step - accuracy: 0.6346 - loss: 1.4975 - val_accuracy: 0.0986 - val_loss: 8.1729\n",
      "Epoch 50/100\n",
      "\u001b[1m327/327\u001b[0m \u001b[32m━━━━━━━━━━━━━━━━━━━━\u001b[0m\u001b[37m\u001b[0m \u001b[1m73s\u001b[0m 224ms/step - accuracy: 0.6388 - loss: 1.4710 - val_accuracy: 0.0981 - val_loss: 8.1942\n",
      "Epoch 51/100\n",
      "\u001b[1m327/327\u001b[0m \u001b[32m━━━━━━━━━━━━━━━━━━━━\u001b[0m\u001b[37m\u001b[0m \u001b[1m72s\u001b[0m 221ms/step - accuracy: 0.6455 - loss: 1.4291 - val_accuracy: 0.0999 - val_loss: 8.2604\n",
      "Epoch 52/100\n",
      "\u001b[1m327/327\u001b[0m \u001b[32m━━━━━━━━━━━━━━━━━━━━\u001b[0m\u001b[37m\u001b[0m \u001b[1m83s\u001b[0m 223ms/step - accuracy: 0.6491 - loss: 1.4128 - val_accuracy: 0.0968 - val_loss: 8.2917\n",
      "Epoch 53/100\n",
      "\u001b[1m327/327\u001b[0m \u001b[32m━━━━━━━━━━━━━━━━━━━━\u001b[0m\u001b[37m\u001b[0m \u001b[1m82s\u001b[0m 224ms/step - accuracy: 0.6593 - loss: 1.3654 - val_accuracy: 0.0956 - val_loss: 8.3484\n",
      "Epoch 54/100\n",
      "\u001b[1m327/327\u001b[0m \u001b[32m━━━━━━━━━━━━━━━━━━━━\u001b[0m\u001b[37m\u001b[0m \u001b[1m82s\u001b[0m 223ms/step - accuracy: 0.6634 - loss: 1.3555 - val_accuracy: 0.0992 - val_loss: 8.3968\n",
      "Epoch 55/100\n",
      "\u001b[1m327/327\u001b[0m \u001b[32m━━━━━━━━━━━━━━━━━━━━\u001b[0m\u001b[37m\u001b[0m \u001b[1m85s\u001b[0m 233ms/step - accuracy: 0.6720 - loss: 1.3145 - val_accuracy: 0.0967 - val_loss: 8.4430\n",
      "Epoch 56/100\n",
      "\u001b[1m327/327\u001b[0m \u001b[32m━━━━━━━━━━━━━━━━━━━━\u001b[0m\u001b[37m\u001b[0m \u001b[1m83s\u001b[0m 236ms/step - accuracy: 0.6782 - loss: 1.2886 - val_accuracy: 0.0982 - val_loss: 8.4673\n",
      "Epoch 57/100\n",
      "\u001b[1m327/327\u001b[0m \u001b[32m━━━━━━━━━━━━━━━━━━━━\u001b[0m\u001b[37m\u001b[0m \u001b[1m78s\u001b[0m 238ms/step - accuracy: 0.6822 - loss: 1.2649 - val_accuracy: 0.0977 - val_loss: 8.5162\n",
      "Epoch 58/100\n",
      "\u001b[1m327/327\u001b[0m \u001b[32m━━━━━━━━━━━━━━━━━━━━\u001b[0m\u001b[37m\u001b[0m \u001b[1m78s\u001b[0m 225ms/step - accuracy: 0.6872 - loss: 1.2384 - val_accuracy: 0.0980 - val_loss: 8.5859\n",
      "Epoch 59/100\n",
      "\u001b[1m327/327\u001b[0m \u001b[32m━━━━━━━━━━━━━━━━━━━━\u001b[0m\u001b[37m\u001b[0m \u001b[1m75s\u001b[0m 228ms/step - accuracy: 0.6899 - loss: 1.2253 - val_accuracy: 0.0957 - val_loss: 8.6093\n",
      "Epoch 60/100\n",
      "\u001b[1m327/327\u001b[0m \u001b[32m━━━━━━━━━━━━━━━━━━━━\u001b[0m\u001b[37m\u001b[0m \u001b[1m81s\u001b[0m 225ms/step - accuracy: 0.6996 - loss: 1.1811 - val_accuracy: 0.0964 - val_loss: 8.6603\n",
      "Epoch 61/100\n",
      "\u001b[1m327/327\u001b[0m \u001b[32m━━━━━━━━━━━━━━━━━━━━\u001b[0m\u001b[37m\u001b[0m \u001b[1m81s\u001b[0m 224ms/step - accuracy: 0.7034 - loss: 1.1619 - val_accuracy: 0.0941 - val_loss: 8.6900\n",
      "Epoch 62/100\n",
      "\u001b[1m327/327\u001b[0m \u001b[32m━━━━━━━━━━━━━━━━━━━━\u001b[0m\u001b[37m\u001b[0m \u001b[1m83s\u001b[0m 226ms/step - accuracy: 0.7085 - loss: 1.1465 - val_accuracy: 0.0957 - val_loss: 8.7421\n",
      "Epoch 63/100\n",
      "\u001b[1m327/327\u001b[0m \u001b[32m━━━━━━━━━━━━━━━━━━━━\u001b[0m\u001b[37m\u001b[0m \u001b[1m74s\u001b[0m 226ms/step - accuracy: 0.7106 - loss: 1.1334 - val_accuracy: 0.0951 - val_loss: 8.7790\n",
      "Epoch 64/100\n",
      "\u001b[1m327/327\u001b[0m \u001b[32m━━━━━━━━━━━━━━━━━━━━\u001b[0m\u001b[37m\u001b[0m \u001b[1m74s\u001b[0m 227ms/step - accuracy: 0.7135 - loss: 1.1034 - val_accuracy: 0.0965 - val_loss: 8.8553\n",
      "Epoch 65/100\n",
      "\u001b[1m327/327\u001b[0m \u001b[32m━━━━━━━━━━━━━━━━━━━━\u001b[0m\u001b[37m\u001b[0m \u001b[1m73s\u001b[0m 225ms/step - accuracy: 0.7182 - loss: 1.0833 - val_accuracy: 0.0938 - val_loss: 8.8508\n",
      "Epoch 66/100\n",
      "\u001b[1m327/327\u001b[0m \u001b[32m━━━━━━━━━━━━━━━━━━━━\u001b[0m\u001b[37m\u001b[0m \u001b[1m83s\u001b[0m 228ms/step - accuracy: 0.7232 - loss: 1.0723 - val_accuracy: 0.0922 - val_loss: 8.8761\n",
      "Epoch 67/100\n",
      "\u001b[1m327/327\u001b[0m \u001b[32m━━━━━━━━━━━━━━━━━━━━\u001b[0m\u001b[37m\u001b[0m \u001b[1m74s\u001b[0m 228ms/step - accuracy: 0.7304 - loss: 1.0388 - val_accuracy: 0.0946 - val_loss: 8.9997\n",
      "Epoch 68/100\n",
      "\u001b[1m327/327\u001b[0m \u001b[32m━━━━━━━━━━━━━━━━━━━━\u001b[0m\u001b[37m\u001b[0m \u001b[1m74s\u001b[0m 225ms/step - accuracy: 0.7293 - loss: 1.0314 - val_accuracy: 0.0964 - val_loss: 8.9761\n",
      "Epoch 69/100\n",
      "\u001b[1m327/327\u001b[0m \u001b[32m━━━━━━━━━━━━━━━━━━━━\u001b[0m\u001b[37m\u001b[0m \u001b[1m82s\u001b[0m 226ms/step - accuracy: 0.7354 - loss: 1.0111 - val_accuracy: 0.0970 - val_loss: 9.0368\n",
      "Epoch 70/100\n",
      "\u001b[1m327/327\u001b[0m \u001b[32m━━━━━━━━━━━━━━━━━━━━\u001b[0m\u001b[37m\u001b[0m \u001b[1m82s\u001b[0m 226ms/step - accuracy: 0.7389 - loss: 0.9954 - val_accuracy: 0.0919 - val_loss: 9.0596\n",
      "Epoch 71/100\n",
      "\u001b[1m327/327\u001b[0m \u001b[32m━━━━━━━━━━━━━━━━━━━━\u001b[0m\u001b[37m\u001b[0m \u001b[1m85s\u001b[0m 236ms/step - accuracy: 0.7413 - loss: 0.9832 - val_accuracy: 0.0940 - val_loss: 9.1158\n",
      "Epoch 72/100\n",
      "\u001b[1m327/327\u001b[0m \u001b[32m━━━━━━━━━━━━━━━━━━━━\u001b[0m\u001b[37m\u001b[0m \u001b[1m78s\u001b[0m 239ms/step - accuracy: 0.7492 - loss: 0.9514 - val_accuracy: 0.0933 - val_loss: 9.1227\n",
      "Epoch 73/100\n",
      "\u001b[1m327/327\u001b[0m \u001b[32m━━━━━━━━━━━━━━━━━━━━\u001b[0m\u001b[37m\u001b[0m \u001b[1m83s\u001b[0m 242ms/step - accuracy: 0.7500 - loss: 0.9502 - val_accuracy: 0.0949 - val_loss: 9.2160\n",
      "Epoch 74/100\n",
      "\u001b[1m327/327\u001b[0m \u001b[32m━━━━━━━━━━━━━━━━━━━━\u001b[0m\u001b[37m\u001b[0m \u001b[1m81s\u001b[0m 248ms/step - accuracy: 0.7553 - loss: 0.9243 - val_accuracy: 0.0938 - val_loss: 9.2535\n",
      "Epoch 75/100\n",
      "\u001b[1m327/327\u001b[0m \u001b[32m━━━━━━━━━━━━━━━━━━━━\u001b[0m\u001b[37m\u001b[0m \u001b[1m80s\u001b[0m 243ms/step - accuracy: 0.7605 - loss: 0.9027 - val_accuracy: 0.0918 - val_loss: 9.2584\n",
      "Epoch 76/100\n",
      "\u001b[1m327/327\u001b[0m \u001b[32m━━━━━━━━━━━━━━━━━━━━\u001b[0m\u001b[37m\u001b[0m \u001b[1m81s\u001b[0m 247ms/step - accuracy: 0.7633 - loss: 0.8905 - val_accuracy: 0.0941 - val_loss: 9.3129\n",
      "Epoch 77/100\n",
      "\u001b[1m327/327\u001b[0m \u001b[32m━━━━━━━━━━━━━━━━━━━━\u001b[0m\u001b[37m\u001b[0m \u001b[1m80s\u001b[0m 242ms/step - accuracy: 0.7638 - loss: 0.8828 - val_accuracy: 0.0947 - val_loss: 9.3509\n",
      "Epoch 78/100\n",
      "\u001b[1m327/327\u001b[0m \u001b[32m━━━━━━━━━━━━━━━━━━━━\u001b[0m\u001b[37m\u001b[0m \u001b[1m82s\u001b[0m 250ms/step - accuracy: 0.7685 - loss: 0.8635 - val_accuracy: 0.0917 - val_loss: 9.3811\n",
      "Epoch 79/100\n",
      "\u001b[1m327/327\u001b[0m \u001b[32m━━━━━━━━━━━━━━━━━━━━\u001b[0m\u001b[37m\u001b[0m \u001b[1m86s\u001b[0m 262ms/step - accuracy: 0.7676 - loss: 0.8642 - val_accuracy: 0.0938 - val_loss: 9.4484\n",
      "Epoch 80/100\n",
      "\u001b[1m327/327\u001b[0m \u001b[32m━━━━━━━━━━━━━━━━━━━━\u001b[0m\u001b[37m\u001b[0m \u001b[1m82s\u001b[0m 252ms/step - accuracy: 0.7743 - loss: 0.8426 - val_accuracy: 0.0920 - val_loss: 9.4519\n",
      "Epoch 81/100\n",
      "\u001b[1m327/327\u001b[0m \u001b[32m━━━━━━━━━━━━━━━━━━━━\u001b[0m\u001b[37m\u001b[0m \u001b[1m82s\u001b[0m 249ms/step - accuracy: 0.7759 - loss: 0.8321 - val_accuracy: 0.0925 - val_loss: 9.5051\n",
      "Epoch 82/100\n",
      "\u001b[1m327/327\u001b[0m \u001b[32m━━━━━━━━━━━━━━━━━━━━\u001b[0m\u001b[37m\u001b[0m \u001b[1m81s\u001b[0m 245ms/step - accuracy: 0.7796 - loss: 0.8140 - val_accuracy: 0.0917 - val_loss: 9.5186\n",
      "Epoch 83/100\n",
      "\u001b[1m327/327\u001b[0m \u001b[32m━━━━━━━━━━━━━━━━━━━━\u001b[0m\u001b[37m\u001b[0m \u001b[1m82s\u001b[0m 246ms/step - accuracy: 0.7829 - loss: 0.8010 - val_accuracy: 0.0922 - val_loss: 9.5434\n",
      "Epoch 84/100\n",
      "\u001b[1m327/327\u001b[0m \u001b[32m━━━━━━━━━━━━━━━━━━━━\u001b[0m\u001b[37m\u001b[0m \u001b[1m81s\u001b[0m 248ms/step - accuracy: 0.7847 - loss: 0.7972 - val_accuracy: 0.0924 - val_loss: 9.6298\n",
      "Epoch 85/100\n",
      "\u001b[1m327/327\u001b[0m \u001b[32m━━━━━━━━━━━━━━━━━━━━\u001b[0m\u001b[37m\u001b[0m \u001b[1m82s\u001b[0m 252ms/step - accuracy: 0.7857 - loss: 0.7813 - val_accuracy: 0.0931 - val_loss: 9.6400\n",
      "Epoch 86/100\n",
      "\u001b[1m327/327\u001b[0m \u001b[32m━━━━━━━━━━━━━━━━━━━━\u001b[0m\u001b[37m\u001b[0m \u001b[1m81s\u001b[0m 247ms/step - accuracy: 0.7901 - loss: 0.7694 - val_accuracy: 0.0937 - val_loss: 9.6948\n",
      "Epoch 87/100\n",
      "\u001b[1m327/327\u001b[0m \u001b[32m━━━━━━━━━━━━━━━━━━━━\u001b[0m\u001b[37m\u001b[0m \u001b[1m83s\u001b[0m 253ms/step - accuracy: 0.7917 - loss: 0.7601 - val_accuracy: 0.0942 - val_loss: 9.7272\n",
      "Epoch 88/100\n",
      "\u001b[1m327/327\u001b[0m \u001b[32m━━━━━━━━━━━━━━━━━━━━\u001b[0m\u001b[37m\u001b[0m \u001b[1m82s\u001b[0m 252ms/step - accuracy: 0.7947 - loss: 0.7469 - val_accuracy: 0.0947 - val_loss: 9.7884\n",
      "Epoch 89/100\n",
      "\u001b[1m327/327\u001b[0m \u001b[32m━━━━━━━━━━━━━━━━━━━━\u001b[0m\u001b[37m\u001b[0m \u001b[1m135s\u001b[0m 229ms/step - accuracy: 0.8025 - loss: 0.7253 - val_accuracy: 0.0947 - val_loss: 9.8136\n",
      "Epoch 90/100\n",
      "\u001b[1m327/327\u001b[0m \u001b[32m━━━━━━━━━━━━━━━━━━━━\u001b[0m\u001b[37m\u001b[0m \u001b[1m80s\u001b[0m 245ms/step - accuracy: 0.8001 - loss: 0.7314 - val_accuracy: 0.0910 - val_loss: 9.8222\n",
      "Epoch 91/100\n",
      "\u001b[1m327/327\u001b[0m \u001b[32m━━━━━━━━━━━━━━━━━━━━\u001b[0m\u001b[37m\u001b[0m \u001b[1m75s\u001b[0m 228ms/step - accuracy: 0.8049 - loss: 0.7088 - val_accuracy: 0.0924 - val_loss: 9.8497\n",
      "Epoch 92/100\n",
      "\u001b[1m327/327\u001b[0m \u001b[32m━━━━━━━━━━━━━━━━━━━━\u001b[0m\u001b[37m\u001b[0m \u001b[1m75s\u001b[0m 228ms/step - accuracy: 0.8039 - loss: 0.7140 - val_accuracy: 0.0916 - val_loss: 9.8730\n",
      "Epoch 93/100\n",
      "\u001b[1m327/327\u001b[0m \u001b[32m━━━━━━━━━━━━━━━━━━━━\u001b[0m\u001b[37m\u001b[0m \u001b[1m83s\u001b[0m 231ms/step - accuracy: 0.8081 - loss: 0.6954 - val_accuracy: 0.0901 - val_loss: 9.9220\n",
      "Epoch 94/100\n",
      "\u001b[1m327/327\u001b[0m \u001b[32m━━━━━━━━━━━━━━━━━━━━\u001b[0m\u001b[37m\u001b[0m \u001b[1m81s\u001b[0m 230ms/step - accuracy: 0.8095 - loss: 0.6842 - val_accuracy: 0.0905 - val_loss: 9.9312\n",
      "Epoch 95/100\n",
      "\u001b[1m327/327\u001b[0m \u001b[32m━━━━━━━━━━━━━━━━━━━━\u001b[0m\u001b[37m\u001b[0m \u001b[1m84s\u001b[0m 236ms/step - accuracy: 0.8124 - loss: 0.6778 - val_accuracy: 0.0938 - val_loss: 10.0010\n",
      "Epoch 96/100\n",
      "\u001b[1m327/327\u001b[0m \u001b[32m━━━━━━━━━━━━━━━━━━━━\u001b[0m\u001b[37m\u001b[0m \u001b[1m82s\u001b[0m 251ms/step - accuracy: 0.8136 - loss: 0.6705 - val_accuracy: 0.0925 - val_loss: 10.0189\n",
      "Epoch 97/100\n",
      "\u001b[1m327/327\u001b[0m \u001b[32m━━━━━━━━━━━━━━━━━━━━\u001b[0m\u001b[37m\u001b[0m \u001b[1m82s\u001b[0m 250ms/step - accuracy: 0.8171 - loss: 0.6564 - val_accuracy: 0.0938 - val_loss: 10.0450\n",
      "Epoch 98/100\n",
      "\u001b[1m327/327\u001b[0m \u001b[32m━━━━━━━━━━━━━━━━━━━━\u001b[0m\u001b[37m\u001b[0m \u001b[1m81s\u001b[0m 247ms/step - accuracy: 0.8178 - loss: 0.6555 - val_accuracy: 0.0926 - val_loss: 10.0781\n",
      "Epoch 99/100\n",
      "\u001b[1m327/327\u001b[0m \u001b[32m━━━━━━━━━━━━━━━━━━━━\u001b[0m\u001b[37m\u001b[0m \u001b[1m77s\u001b[0m 237ms/step - accuracy: 0.8203 - loss: 0.6470 - val_accuracy: 0.0930 - val_loss: 10.1167\n",
      "Epoch 100/100\n",
      "\u001b[1m327/327\u001b[0m \u001b[32m━━━━━━━━━━━━━━━━━━━━\u001b[0m\u001b[37m\u001b[0m \u001b[1m77s\u001b[0m 235ms/step - accuracy: 0.8205 - loss: 0.6407 - val_accuracy: 0.0928 - val_loss: 10.1504\n"
     ]
    }
   ],
   "source": [
    "# Train the model\n",
    "epochs = 100\n",
    "batch_size = 256\n",
    "\n",
    "history = model.fit(X, y, epochs=epochs, batch_size=batch_size, validation_split=0.2)\n"
   ]
  },
  {
   "cell_type": "markdown",
   "metadata": {},
   "source": [
    "# Evaluation"
   ]
  },
  {
   "cell_type": "code",
   "execution_count": 6,
   "metadata": {},
   "outputs": [
    {
     "name": "stderr",
     "output_type": "stream",
     "text": [
      "2024-07-05 11:51:41.078970: W external/local_tsl/tsl/framework/cpu_allocator_impl.cc:83] Allocation of 3483714432 exceeds 10% of free system memory.\n"
     ]
    },
    {
     "name": "stdout",
     "output_type": "stream",
     "text": [
      "\u001b[1m3265/3265\u001b[0m \u001b[32m━━━━━━━━━━━━━━━━━━━━\u001b[0m\u001b[37m\u001b[0m \u001b[1m57s\u001b[0m 17ms/step - accuracy: 0.9409 - loss: 0.3953\n",
      "Loss: 2.1747772693634033\n",
      "Accuracy: 0.7867876291275024\n"
     ]
    }
   ],
   "source": [
    "# Evaluate the model\n",
    "loss, accuracy = model.evaluate(X, y)\n",
    "print(f'Loss: {loss}')\n",
    "print(f'Accuracy: {accuracy}')"
   ]
  },
  {
   "cell_type": "markdown",
   "metadata": {},
   "source": [
    "# plot graph for accuracy and loss"
   ]
  },
  {
   "cell_type": "code",
   "execution_count": 7,
   "metadata": {},
   "outputs": [
    {
     "data": {
      "image/png": "[encoded data removed]",
      "text/plain": [
       "<Figure size 1400x600 with 2 Axes>"
      ]
     },
     "metadata": {},
     "output_type": "display_data"
    }
   ],
   "source": [
    "# Plotting the accuracy and loss\n",
    "# Retrieve training and validation accuracy\n",
    "accuracy = history.history['accuracy']\n",
    "val_accuracy = history.history['val_accuracy']\n",
    "\n",
    "# Retrieve training and validation loss\n",
    "loss = history.history['loss']\n",
    "val_loss = history.history['val_loss']\n",
    "\n",
    "# Create epochs array for x-axis\n",
    "epochs_range = range(epochs)\n",
    "\n",
    "# Plot training accuracy and loss\n",
    "plt.figure(figsize=(14, 6))\n",
    "\n",
    "plt.subplot(1, 2, 1)\n",
    "plt.plot(epochs_range, accuracy, label='Training Accuracy')\n",
    "plt.plot(epochs_range, loss, label='Training Loss')\n",
    "plt.xlabel('Epochs')\n",
    "plt.ylabel('Accuracy/Loss')\n",
    "plt.legend(loc='best')\n",
    "plt.title('Training Accuracy and Loss')\n",
    "\n",
    "# Plot validation accuracy and loss\n",
    "plt.subplot(1, 2, 2)\n",
    "plt.plot(epochs_range, val_accuracy, label='Validation Accuracy')\n",
    "plt.plot(epochs_range, val_loss, label='Validation Loss')\n",
    "plt.xlabel('Epochs')\n",
    "plt.ylabel('Accuracy/Loss')\n",
    "plt.legend(loc='best')\n",
    "plt.title('Validation Accuracy and Loss')\n",
    "\n",
    "plt.show()"
   ]
  },
  {
   "cell_type": "markdown",
   "metadata": {},
   "source": [
    "# Prediction Function"
   ]
  },
  {
   "cell_type": "code",
   "execution_count": 8,
   "metadata": {},
   "outputs": [
    {
     "name": "stdout",
     "output_type": "stream",
     "text": [
      "Next word prediction: quite\n"
     ]
    }
   ],
   "source": [
    "# Function to predict the next word\n",
    "def predict_next_word(model, tokenizer, text_seq, seq_length):\n",
    "    text_seq = text_seq.lower()\n",
    "    text_seq = re.sub(r'[^a-z\\s]', '', text_seq)  # Preprocess input text\n",
    "    tokens = nltk.word_tokenize(text_seq)\n",
    "    encoded = tokenizer.texts_to_sequences([tokens])\n",
    "    encoded = pad_sequences(encoded, maxlen=seq_length-1, padding='pre')\n",
    "    \n",
    "    pred_prob = model.predict(encoded, verbose=0)\n",
    "    pred_word = tokenizer.index_word[np.argmax(pred_prob)]\n",
    "    \n",
    "    return pred_word\n",
    "\n",
    "# Example usage\n",
    "input_text = \"sherlock holmes is\"\n",
    "next_word = predict_next_word(model, tokenizer, input_text, sequence_length)\n",
    "print(f'Next word prediction: {next_word}')\n"
   ]
  },
  {
   "cell_type": "code",
   "execution_count": 11,
   "metadata": {},
   "outputs": [],
   "source": [
    "import pickle\n",
    "\n",
    "# Save the model\n",
    "model.save('next_word_model2.keras')\n",
    "\n",
    "# Save the tokenizer\n",
    "with open('tokenizer.pickle', 'wb') as handle:\n",
    "    pickle.dump(tokenizer, handle, protocol=pickle.HIGHEST_PROTOCOL)"
   ]
  }
 ],
 "metadata": {
  "kernelspec": {
   "display_name": "CCCenv",
   "language": "python",
   "name": "python3"
  },
  "language_info": {
   "codemirror_mode": {
    "name": "ipython",
    "version": 3
   },
   "file_extension": ".py",
   "mimetype": "text/x-python",
   "name": "python",
   "nbconvert_exporter": "python",
   "pygments_lexer": "ipython3",
   "version": "3.12.4"
  }
 },
 "nbformat": 4,
 "nbformat_minor": 2
}
